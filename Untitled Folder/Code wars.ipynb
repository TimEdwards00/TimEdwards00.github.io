{
 "cells": [
  {
   "cell_type": "code",
   "execution_count": 5,
   "metadata": {},
   "outputs": [
    {
     "data": {
      "text/plain": [
       "False"
      ]
     },
     "execution_count": 5,
     "metadata": {},
     "output_type": "execute_result"
    }
   ],
   "source": [
    "def lovefunc(flower1, flower2):\n",
    "    return flower1 % 2 != flower2 % 2\n",
    "\n",
    "lovefunc(2,2)"
   ]
  },
  {
   "cell_type": "code",
   "execution_count": 22,
   "metadata": {},
   "outputs": [
    {
     "name": "stdout",
     "output_type": "stream",
     "text": [
      "48\n"
     ]
    }
   ],
   "source": [
    "def grow(arr):\n",
    "    product = 1\n",
    "    length = len(arr)\n",
    "    for x in range(length):\n",
    "        product = product * arr[x]\n",
    "    print(product)\n",
    "\n",
    "test = [2,2,3,4]\n",
    "\n",
    "grow(test)\n",
    "        \n",
    "#optimal\n",
    "#def grow(arr):\n",
    "\t#product = 1\n",
    "\t#for i in arr:\n",
    "\t#\tproduct *= i # used assignment operator\n",
    "\t#return product\n",
    "    "
   ]
  },
  {
   "cell_type": "code",
   "execution_count": null,
   "metadata": {},
   "outputs": [],
   "source": [
    "#keep hydrated\n",
    "def litres(time):\n",
    "    result = int(0.5 * time)\n",
    "    return(result)\n",
    "\n",
    "#def litres(time):\n",
    "   # return time // #2 double slash is floor division"
   ]
  }
 ],
 "metadata": {
  "kernelspec": {
   "display_name": "Python 3",
   "language": "python",
   "name": "python3"
  },
  "language_info": {
   "codemirror_mode": {
    "name": "ipython",
    "version": 3
   },
   "file_extension": ".py",
   "mimetype": "text/x-python",
   "name": "python",
   "nbconvert_exporter": "python",
   "pygments_lexer": "ipython3",
   "version": "3.8.3"
  }
 },
 "nbformat": 4,
 "nbformat_minor": 4
}
