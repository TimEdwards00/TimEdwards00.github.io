{
 "cells": [
  {
   "cell_type": "code",
   "execution_count": 18,
   "metadata": {},
   "outputs": [
    {
     "data": {
      "text/plain": [
       "'tac'"
      ]
     },
     "execution_count": 18,
     "metadata": {},
     "output_type": "execute_result"
    }
   ],
   "source": [
    "#string reversing\n",
    "\n",
    "def solution(string):\n",
    "    lst = list(string) # use list to convert single words into strings by characters\n",
    "    lst.reverse()\n",
    "    a = ''.join(lst)\n",
    "    \n",
    "    return a\n",
    "\n",
    "solution(\"cat\")"
   ]
  },
  {
   "cell_type": "code",
   "execution_count": null,
   "metadata": {},
   "outputs": [],
   "source": [
    "#string reverse model\n",
    "def solution(str):\n",
    "    return str[::-1] # this will return string backwards as slicer goes in reverse!"
   ]
  },
  {
   "cell_type": "code",
   "execution_count": null,
   "metadata": {},
   "outputs": [],
   "source": [
    "#boolean true\n",
    "\n",
    "def bool_to_word(bool):\n",
    "    return \"Yes\" if bool else \"No\"\n",
    "# if the varialbe is a boolean, it can be pluged into condion directly!"
   ]
  },
  {
   "cell_type": "code",
   "execution_count": 29,
   "metadata": {},
   "outputs": [
    {
     "name": "stdout",
     "output_type": "stream",
     "text": [
      "['string', 'cap']\n"
     ]
    },
    {
     "data": {
      "text/plain": [
       "'String Cap'"
      ]
     },
     "execution_count": 29,
     "metadata": {},
     "output_type": "execute_result"
    }
   ],
   "source": [
    "#jaden case\n",
    "\n",
    "def to_jaden_case(string):\n",
    "    cap = []\n",
    "    lst = string.split()\n",
    "    print(lst)\n",
    "    for i in lst:\n",
    "        temp = i.capitalize()\n",
    "        cap.append(temp)\n",
    "    joined = \" \".join(cap)\n",
    "    return joined\n",
    "to_jaden_case(\"string cap\")"
   ]
  }
 ],
 "metadata": {
  "kernelspec": {
   "display_name": "Python 3",
   "language": "python",
   "name": "python3"
  },
  "language_info": {
   "codemirror_mode": {
    "name": "ipython",
    "version": 3
   },
   "file_extension": ".py",
   "mimetype": "text/x-python",
   "name": "python",
   "nbconvert_exporter": "python",
   "pygments_lexer": "ipython3",
   "version": "3.8.3"
  }
 },
 "nbformat": 4,
 "nbformat_minor": 4
}
