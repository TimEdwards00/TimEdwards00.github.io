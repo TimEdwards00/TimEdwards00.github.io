{
 "cells": [
  {
   "cell_type": "code",
   "execution_count": 9,
   "metadata": {
    "scrolled": true
   },
   "outputs": [
    {
     "name": "stdout",
     "output_type": "stream",
     "text": [
      "0.8475\n"
     ]
    }
   ],
   "source": [
    "#6.5\n",
    "\n",
    "text = \"X-DSPAM-Confidence:    0.8475\"\n",
    "spos = text.find(\"0\")\n",
    "extract = text[spos:]\n",
    "extract = float(extract)\n",
    "print(extract)"
   ]
  },
  {
   "cell_type": "code",
   "execution_count": 23,
   "metadata": {},
   "outputs": [
    {
     "name": "stdout",
     "output_type": "stream",
     "text": [
      "Enter file name: words.txt\n",
      "WRITING PROGRAMS OR PROGRAMMING IS A VERY CREATIVE\n",
      "AND REWARDING ACTIVITY  YOU CAN WRITE PROGRAMS FOR\n",
      "MANY REASONS RANGING FROM MAKING YOUR LIVING TO SOLVING\n",
      "A DIFFICULT DATA ANALYSIS PROBLEM TO HAVING FUN TO HELPING\n",
      "SOMEONE ELSE SOLVE A PROBLEM  THIS BOOK ASSUMES THAT\n",
      "{\\EM EVERYONE} NEEDS TO KNOW HOW TO PROGRAM AND THAT ONCE\n",
      "YOU KNOW HOW TO PROGRAM, YOU WILL FIGURE OUT WHAT YOU WANT\n",
      "TO DO WITH YOUR NEWFOUND SKILLS\n",
      "\n",
      "WE ARE SURROUNDED IN OUR DAILY LIVES WITH COMPUTERS RANGING\n",
      "FROM LAPTOPS TO CELL PHONES  WE CAN THINK OF THESE COMPUTERS\n",
      "AS OUR PERSONAL ASSISTANTS WHO CAN TAKE CARE OF MANY THINGS\n",
      "ON OUR BEHALF  THE HARDWARE IN OUR CURRENT-DAY COMPUTERS\n",
      "IS ESSENTIALLY BUILT TO CONTINUOUSLY ASK US THE QUESTION\n",
      "WHAT WOULD YOU LIKE ME TO DO NEXT\n",
      "\n",
      "OUR COMPUTERS ARE FAST AND HAVE VASTS AMOUNTS OF MEMORY AND\n",
      "COULD BE VERY HELPFUL TO US IF WE ONLY KNEW THE LANGUAGE TO\n",
      "SPEAK TO EXPLAIN TO THE COMPUTER WHAT WE WOULD LIKE IT TO\n",
      "DO NEXT IF WE KNEW THIS LANGUAGE WE COULD TELL THE\n",
      "COMPUTER TO DO TASKS ON OUR BEHALF THAT WERE REPTITIVE\n",
      "INTERESTINGLY, THE KINDS OF THINGS COMPUTERS CAN DO BEST\n",
      "ARE OFTEN THE KINDS OF THINGS THAT WE HUMANS FIND BORING\n",
      "AND MIND-NUMBING\n"
     ]
    }
   ],
   "source": [
    "#7.1\n",
    "\n",
    "fname = input(\"Enter file name: \")\n",
    "fh = open(fname)\n",
    "for line in fh:\n",
    "    print(line.upper().rstrip())\n",
    "\n",
    "\n"
   ]
  },
  {
   "cell_type": "code",
   "execution_count": 29,
   "metadata": {},
   "outputs": [
    {
     "name": "stdout",
     "output_type": "stream",
     "text": [
      "['Arise', 'But', 'It', 'Juliet', 'Who', 'already', 'and', 'breaks', 'east', 'envious', 'fair', 'grief', 'is', 'kill', 'light', 'moon', 'pale', 'sick', 'soft', 'sun', 'the', 'through', 'what', 'window', 'with', 'yonder']\n"
     ]
    }
   ],
   "source": [
    "#8.4\n",
    "#fname = input(\"Enter file name: \")\n",
    "fname = \"romeo.txt\"\n",
    "fh = open(fname)\n",
    "lst = list()\n",
    "\n",
    "for line in fh:\n",
    "    spl = line.split()\n",
    "    #print(spl)\n",
    "    for i in spl:\n",
    "        if i not in lst:\n",
    "            lst.append(i)\n",
    "lst.sort()\n",
    "print(lst)\n",
    "\n",
    "\n"
   ]
  },
  {
   "cell_type": "code",
   "execution_count": 28,
   "metadata": {},
   "outputs": [
    {
     "name": "stdout",
     "output_type": "stream",
     "text": [
      "stephen.marquard@uct.ac.za\n",
      "louis@media.berkeley.edu\n",
      "zqian@umich.edu\n",
      "rjlowe@iupui.edu\n",
      "zqian@umich.edu\n",
      "rjlowe@iupui.edu\n",
      "cwen@iupui.edu\n",
      "cwen@iupui.edu\n",
      "gsilver@umich.edu\n",
      "gsilver@umich.edu\n",
      "zqian@umich.edu\n",
      "gsilver@umich.edu\n",
      "wagnermr@iupui.edu\n",
      "zqian@umich.edu\n",
      "antranig@caret.cam.ac.uk\n",
      "gopal.ramasammycook@gmail.com\n",
      "david.horwitz@uct.ac.za\n",
      "david.horwitz@uct.ac.za\n",
      "david.horwitz@uct.ac.za\n",
      "david.horwitz@uct.ac.za\n",
      "stephen.marquard@uct.ac.za\n",
      "louis@media.berkeley.edu\n",
      "louis@media.berkeley.edu\n",
      "ray@media.berkeley.edu\n",
      "cwen@iupui.edu\n",
      "cwen@iupui.edu\n",
      "cwen@iupui.edu\n",
      "There were 27 lines in the file with From as the first word\n"
     ]
    }
   ],
   "source": [
    "#8.5\n",
    "\n",
    "#fname = input(\"Enter file name: \")\n",
    "#if len(fname) < 1:\n",
    "fname = \"mbox-short.txt\"\n",
    "\n",
    "fh = open(fname)\n",
    "count = 0\n",
    "for line in fh:\n",
    "    words = line.split()\n",
    "    if len(words) == 0: continue\n",
    "    if words[0] != \"From\": continue\n",
    "    count += 1\n",
    "    \n",
    "    print(words[1])\n",
    "    \n",
    "\n",
    "print(\"There were\", count, \"lines in the file with From as the first word\")\n"
   ]
  },
  {
   "cell_type": "code",
   "execution_count": 41,
   "metadata": {
    "scrolled": false
   },
   "outputs": [
    {
     "name": "stdout",
     "output_type": "stream",
     "text": [
      "cwen@iupui.edu 5\n"
     ]
    }
   ],
   "source": [
    "#9.4\n",
    "\n",
    "\n",
    "fname = \"mbox-short.txt\"\n",
    "\n",
    "fh = open(fname)\n",
    "count = 0\n",
    "histo = dict()\n",
    "\n",
    "for line in fh:\n",
    "    words = line.split()\n",
    "    \n",
    "    \n",
    "    if len(words) == 0: continue\n",
    "    if words[0] != \"From\": continue\n",
    "    count += 1\n",
    "    #print(words[1])\n",
    "    \n",
    "    histo[words[1]] = histo.get(words[1],0) + 1\n",
    "\n",
    "    \n",
    "maxK = None\n",
    "maxV = None\n",
    "for k,v in histo.items():\n",
    "    if maxV is None or v > maxV:\n",
    "        maxK = k\n",
    "        maxV = v\n",
    "print(maxK,maxV)\n"
   ]
  },
  {
   "cell_type": "code",
   "execution_count": 80,
   "metadata": {},
   "outputs": [
    {
     "name": "stdout",
     "output_type": "stream",
     "text": [
      "04 3\n",
      "06 1\n",
      "07 1\n",
      "09 2\n",
      "10 3\n",
      "11 6\n",
      "14 1\n",
      "15 2\n",
      "16 4\n",
      "17 2\n",
      "18 1\n",
      "19 1\n"
     ]
    }
   ],
   "source": [
    "#10.2\n",
    "\n",
    "fname = \"mbox-short.txt\"\n",
    "\n",
    "fh = open(fname)\n",
    "count = 0\n",
    "histo = dict()\n",
    "\n",
    "for line in fh:\n",
    "    words = line.split()\n",
    "    \n",
    "    \n",
    "    if len(words) == 0: continue\n",
    "    if words[0] != \"From\": continue\n",
    "    #count += 1\n",
    "    #print(words[5])\n",
    "    temp = line.split(\":\")\n",
    "    temp2 = temp[0]\n",
    "    hrs = temp2[-2:]\n",
    "    #print(hrs)\n",
    "    histo[hrs] = histo.get(hrs,0) + 1\n",
    "\n",
    "#print(histo)\n",
    "\n",
    "#list compreashenion approach\n",
    "\n",
    "lst = (sorted([(k,v) for k,v in histo.items()]))\n",
    "for v, k in lst:\n",
    "    print(v,k)\n",
    "\n",
    "    \n",
    "#long approach    \n",
    "#lst = list()\n",
    "#for k, v in histo.items():\n",
    "#    newtup = (k, v)\n",
    "#    lst.append(newtup)\n",
    "#\n",
    "#lst = sorted(lst, reverse=False)\n",
    "#\n",
    "#for v, k in lst:\n",
    "#    print(v,k)\n",
    "    \n",
    "\n"
   ]
  },
  {
   "cell_type": "code",
   "execution_count": 20,
   "metadata": {},
   "outputs": [
    {
     "name": "stdout",
     "output_type": "stream",
     "text": [
      "Files in 'C:\\\\Users\\\\timed\\\\OneDrive\\\\Desktop\\\\TimEdwards00.github.io\\\\python for everyone': ['.ipynb_checkpoints', '2 Python Data Structures.ipynb', '3.3.py', '4.6.py', '5.2.ipynb', 'Testing from course.ipynb', 'words.txt.txt']\n"
     ]
    }
   ],
   "source": [
    "import os\n",
    "\n",
    "cwd = os.getcwd()\n",
    "files = os.listdir(cwd)  # Get all the files in that directory\n",
    "print(\"Files in %r: %s\" % (cwd, files))"
   ]
  },
  {
   "cell_type": "code",
   "execution_count": 32,
   "metadata": {},
   "outputs": [
    {
     "name": "stdout",
     "output_type": "stream",
     "text": [
      "Enter file name: mbox-short.txt\n",
      "Average spam confidence: 0.7507185185185187\n"
     ]
    }
   ],
   "source": [
    "# Use the file name mbox-short.txt as the file name\n",
    "fname = input(\"Enter file name: \")\n",
    "fh = open(fname)\n",
    "total = 0\n",
    "count = 0\n",
    "for line in fh:\n",
    "    if not line.startswith(\"X-DSPAM-Confidence:\"):\n",
    "        continue\n",
    "    line = line.rstrip()\n",
    "    running = float(line[-6:])\n",
    "    total += running\n",
    "    count += 1\n",
    "\n",
    "avg = total/count    \n",
    "print(\"Average spam confidence: \" + str(avg))"
   ]
  }
 ],
 "metadata": {
  "kernelspec": {
   "display_name": "Python 3",
   "language": "python",
   "name": "python3"
  },
  "language_info": {
   "codemirror_mode": {
    "name": "ipython",
    "version": 3
   },
   "file_extension": ".py",
   "mimetype": "text/x-python",
   "name": "python",
   "nbconvert_exporter": "python",
   "pygments_lexer": "ipython3",
   "version": "3.8.3"
  }
 },
 "nbformat": 4,
 "nbformat_minor": 4
}
