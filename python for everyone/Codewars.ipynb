{
 "cells": [
  {
   "cell_type": "code",
   "execution_count": 18,
   "metadata": {},
   "outputs": [
    {
     "data": {
      "text/plain": [
       "'tac'"
      ]
     },
     "execution_count": 18,
     "metadata": {},
     "output_type": "execute_result"
    }
   ],
   "source": [
    "#string reversing\n",
    "\n",
    "def solution(string):\n",
    "    lst = list(string) # use list to convert single words into strings by characters\n",
    "    lst.reverse()\n",
    "    a = ''.join(lst)\n",
    "    \n",
    "    return a\n",
    "\n",
    "solution(\"cat\")"
   ]
  },
  {
   "cell_type": "code",
   "execution_count": null,
   "metadata": {},
   "outputs": [],
   "source": [
    "#string reverse model\n",
    "def solution(str):\n",
    "    return str[::-1] # this will return string backwards as slicer goes in reverse!"
   ]
  },
  {
   "cell_type": "code",
   "execution_count": null,
   "metadata": {},
   "outputs": [],
   "source": [
    "#boolean true\n",
    "\n",
    "def bool_to_word(bool):\n",
    "    return \"Yes\" if bool else \"No\"\n",
    "# if the varialbe is a boolean, it can be pluged into condion directly!"
   ]
  },
  {
   "cell_type": "code",
   "execution_count": 29,
   "metadata": {},
   "outputs": [
    {
     "name": "stdout",
     "output_type": "stream",
     "text": [
      "['string', 'cap']\n"
     ]
    },
    {
     "data": {
      "text/plain": [
       "'String Cap'"
      ]
     },
     "execution_count": 29,
     "metadata": {},
     "output_type": "execute_result"
    }
   ],
   "source": [
    "#jaden case\n",
    "\n",
    "def to_jaden_case(string):\n",
    "    cap = []\n",
    "    lst = string.split()\n",
    "    print(lst)\n",
    "    for i in lst:\n",
    "        temp = i.capitalize()\n",
    "        cap.append(temp)\n",
    "    joined = \" \".join(cap)\n",
    "    return joined\n",
    "to_jaden_case(\"string cap\")"
   ]
  },
  {
   "cell_type": "code",
   "execution_count": 37,
   "metadata": {},
   "outputs": [
    {
     "name": "stdout",
     "output_type": "stream",
     "text": [
      "p\n",
      "i\n"
     ]
    },
    {
     "data": {
      "text/plain": [
       "True"
      ]
     },
     "execution_count": 37,
     "metadata": {},
     "output_type": "execute_result"
    }
   ],
   "source": [
    "#isogram\n",
    "\n",
    "def is_isogram(string):\n",
    "    string = string.lower()\n",
    "    list = []\n",
    "    for i in string:\n",
    "        if i in list:\n",
    "            return False\n",
    "        list.append(i)\n",
    "    return True\n",
    "is_isogram(\"pi\")"
   ]
  },
  {
   "cell_type": "code",
   "execution_count": 48,
   "metadata": {},
   "outputs": [
    {
     "data": {
      "text/plain": [
       "1.57"
      ]
     },
     "execution_count": 48,
     "metadata": {},
     "output_type": "execute_result"
    }
   ],
   "source": [
    "#series sum\n",
    "\n",
    "def series_sum(n):\n",
    "    total = 1\n",
    "    if n == 1: return 1\n",
    "    \n",
    "    for i in range(n-1):\n",
    "        total = total + (1/(4+3*i)) \n",
    "    return round(total,2)\n",
    "series_sum(5)"
   ]
  }
 ],
 "metadata": {
  "kernelspec": {
   "display_name": "Python 3",
   "language": "python",
   "name": "python3"
  },
  "language_info": {
   "codemirror_mode": {
    "name": "ipython",
    "version": 3
   },
   "file_extension": ".py",
   "mimetype": "text/x-python",
   "name": "python",
   "nbconvert_exporter": "python",
   "pygments_lexer": "ipython3",
   "version": "3.8.3"
  }
 },
 "nbformat": 4,
 "nbformat_minor": 4
}
