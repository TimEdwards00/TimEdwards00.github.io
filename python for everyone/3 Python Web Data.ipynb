{
 "cells": [
  {
   "cell_type": "code",
   "execution_count": 2,
   "metadata": {},
   "outputs": [
    {
     "name": "stdout",
     "output_type": "stream",
     "text": [
      "HTTP/1.1 200 OK\r\n",
      "Date: Sat, 11 Feb 2023 17:26:34 GMT\r\n",
      "Server: Apache/2.4.18 (Ubuntu)\r\n",
      "Last-Modified: Sat, 13 May 2017 11:22:22 GMT\r\n",
      "ETag: \"1d3-54f6609240717\"\r\n",
      "Accept-Ranges: bytes\r\n",
      "Content-Length: 467\r\n",
      "Cache-Control: max-age=0, no-cache, no-store, must-revalidate\r\n",
      "Pragma: no-cache\r\n",
      "Expires: Wed, 11 Jan 1984 05:00:00 GMT\r\n",
      "Connection: close\r\n",
      "Content-Type: text/plain\r\n",
      "\r\n",
      "Why should you learn to write programs?\n",
      "\n",
      "Writing programs (or programming) is a very creative \n",
      "and rewarding activity.  You can write programs for \n",
      "many reasons, ranging from making your living to solving\n",
      "a difficult data analysis problem to having fun to helping\n",
      "someone else solve a problem.  This book assumes that \n",
      "everyone needs to know how to program, and that once \n",
      "you know how to program you will figure out what you want \n",
      "to do with your newfound skills.  \n"
     ]
    }
   ],
   "source": [
    "#Request Response Cycle, gett9ng headers\n",
    "import socket\n",
    "\n",
    "mysock = socket.socket(socket.AF_INET, socket.SOCK_STREAM)\n",
    "mysock.connect(('data.pr4e.org',80))\n",
    "cmd = 'GET http://data.pr4e.org/intro-short.txt HTTP/1.0\\r\\n\\r\\n'.encode()\n",
    "mysock.send(cmd)\n",
    "\n",
    "while True:\n",
    "    data = mysock.recv(512)\n",
    "    if len(data) < 1:\n",
    "        break\n",
    "    print(data.decode(),end='')\n",
    "\n",
    "mysock.close()"
   ]
  },
  {
   "cell_type": "code",
   "execution_count": 35,
   "metadata": {},
   "outputs": [
    {
     "name": "stdout",
     "output_type": "stream",
     "text": [
      "445833\n"
     ]
    }
   ],
   "source": [
    "# 11 Regex Test\n",
    "\n",
    "import re\n",
    "fname = \"regex_sum_42.txt\"\n",
    "fh = open(fname)\n",
    "running = list()\n",
    "\n",
    "for line in fh:\n",
    "    line = line.rstrip()\n",
    "    \n",
    "    \n",
    "    if re.search('[0-9]',line):\n",
    "        #print(line)\n",
    "        x = re.findall('[0-9]+',line)   \n",
    "        #print(x)\n",
    "        running.append(x)\n",
    "    \n",
    "flatList = []\n",
    "for sublist in running:\n",
    "    for i in sublist:\n",
    "        flatList.append(i)\n",
    "\n",
    "flatList = list(map(int,flatList))\n",
    "#print(flatList)\n",
    "\n",
    "print(sum(flatList))"
   ]
  },
  {
   "cell_type": "code",
   "execution_count": 36,
   "metadata": {},
   "outputs": [
    {
     "name": "stdout",
     "output_type": "stream",
     "text": [
      "529580\n"
     ]
    }
   ],
   "source": [
    "# 11 Regex Actual\n",
    "\n",
    "import re\n",
    "fname = \"regex_sum_1740346.txt\"\n",
    "fh = open(fname)\n",
    "running = list()\n",
    "\n",
    "for line in fh:\n",
    "    line = line.rstrip()\n",
    "    \n",
    "    \n",
    "    if re.search('[0-9]',line):\n",
    "        #print(line)\n",
    "        x = re.findall('[0-9]+',line)   \n",
    "        #print(x)\n",
    "        running.append(x)\n",
    "    \n",
    "flatList = []\n",
    "for sublist in running:\n",
    "    for i in sublist:\n",
    "        flatList.append(i)\n",
    "\n",
    "flatList = list(map(int,flatList))\n",
    "#print(flatList)\n",
    "\n",
    "print(sum(flatList))"
   ]
  }
 ],
 "metadata": {
  "kernelspec": {
   "display_name": "Python 3",
   "language": "python",
   "name": "python3"
  },
  "language_info": {
   "codemirror_mode": {
    "name": "ipython",
    "version": 3
   },
   "file_extension": ".py",
   "mimetype": "text/x-python",
   "name": "python",
   "nbconvert_exporter": "python",
   "pygments_lexer": "ipython3",
   "version": "3.8.3"
  }
 },
 "nbformat": 4,
 "nbformat_minor": 4
}
