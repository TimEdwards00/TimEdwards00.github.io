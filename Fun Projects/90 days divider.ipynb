{
 "cells": [
  {
   "cell_type": "code",
   "execution_count": 30,
   "metadata": {},
   "outputs": [
    {
     "name": "stdout",
     "output_type": "stream",
     "text": [
      "12-02-2023\n",
      "14-11-2022\n",
      "16-08-2022\n",
      "18-05-2022\n",
      "17-02-2022\n",
      "19-11-2021\n",
      "21-08-2021\n",
      "23-05-2021\n",
      "22-02-2021\n",
      "24-11-2020\n"
     ]
    }
   ],
   "source": [
    "import datetime\n",
    "from datetime import timedelta\n",
    "\n",
    "tday = datetime.date.today()\n",
    "\n",
    "delta = timedelta(\n",
    "    days=90)\n",
    "\n",
    "raw = str(delta)\n",
    "\n",
    "for i in range(10):\n",
    "    ans = []\n",
    "    temp = str(tday - delta*i)\n",
    "    ans.append(temp[-2])\n",
    "    ans.append(temp[-1])\n",
    "    ans.append(\"-\")\n",
    "    ans.append(temp[5])\n",
    "    ans.append(temp[6])\n",
    "    ans.append(\"-\")\n",
    "    for a in range(4):\n",
    "        ans.append(temp[a])\n",
    "    stringAns = \"\".join(ans)\n",
    "    print(stringAns)"
   ]
  }
 ],
 "metadata": {
  "kernelspec": {
   "display_name": "Python 3",
   "language": "python",
   "name": "python3"
  },
  "language_info": {
   "codemirror_mode": {
    "name": "ipython",
    "version": 3
   },
   "file_extension": ".py",
   "mimetype": "text/x-python",
   "name": "python",
   "nbconvert_exporter": "python",
   "pygments_lexer": "ipython3",
   "version": "3.8.3"
  }
 },
 "nbformat": 4,
 "nbformat_minor": 4
}
