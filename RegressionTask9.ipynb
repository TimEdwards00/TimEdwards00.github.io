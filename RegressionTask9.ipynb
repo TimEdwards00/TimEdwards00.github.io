{
  "nbformat": 4,
  "nbformat_minor": 0,
  "metadata": {
    "colab": {
      "name": "Regression.ipynb",
      "provenance": [],
      "authorship_tag": "ABX9TyN7qaud+F3SlIAsJyNOdXft",
      "include_colab_link": true
    },
    "kernelspec": {
      "name": "python3",
      "display_name": "Python 3"
    },
    "language_info": {
      "name": "python"
    }
  },
  "cells": [
    {
      "cell_type": "markdown",
      "metadata": {
        "id": "view-in-github",
        "colab_type": "text"
      },
      "source": [
        "<a href=\"https://colab.research.google.com/github/TimEdwards00/TimEdwards00.github.io/blob/main/RegressionTask9.ipynb\" target=\"_parent\"><img src=\"https://colab.research.google.com/assets/colab-badge.svg\" alt=\"Open In Colab\"/></a>"
      ]
    },
    {
      "cell_type": "code",
      "execution_count": null,
      "metadata": {
        "id": "bg-d44M0PmEd"
      },
      "outputs": [],
      "source": [
        ""
      ]
    },
    {
      "cell_type": "code",
      "execution_count": 1,
      "metadata": {
        "id": "sU_ruqSet4cV"
      },
      "outputs": [],
      "source": [
        "\n",
        "import numpy as np\n",
        "import pandas as pd\n",
        "from sklearn.linear_model import LinearRegression\n",
        "\n",
        "\n",
        "%matplotlib inline\n",
        "import matplotlib.pyplot as plt\n",
        "import seaborn as sns; sns.set()\n",
        "\n",
        "from google.colab import files\n",
        "\n",
        "\n"
      ]
    },
    {
      "cell_type": "code",
      "source": [
        "#avg age on life expectancy, \n",
        "#age https://worldpopulationreview.com/country-rankings/median-age\n",
        "#life https://apps.who.int/gho/data/node.main.688\n",
        "\n",
        "age = pd.read_csv(\"https://raw.githubusercontent.com/TimEdwards00/TimEdwards00.github.io/main/avgage.csv\")\n",
        "life = pd.read_csv(\"https://raw.githubusercontent.com/TimEdwards00/TimEdwards00.github.io/main/lifeexpectancy.csv\")\n",
        "\n",
        "combine = pd.merge(age,life,on=['Country'])\n",
        "combine = combine.dropna(how='any')\n",
        "\n",
        "x=combine['MedianAge'].values.reshape(-1,1)\n",
        "y=combine['Life'].values.reshape(-1,1)\n",
        "\n",
        "reg = LinearRegression()\n",
        "reg.fit(x,y)\n",
        "\n",
        "xfit = np.linspace(0, 60, 1000)\n",
        "yfit = reg.predict(xfit[:, np.newaxis])\n",
        "\n",
        "plt.scatter(x, y)\n",
        "plt.plot(xfit, yfit)\n",
        "\n",
        "print(reg.coef_[0])\n",
        "print(reg.intercept_)\n",
        "\n",
        "#0.7\n",
        "#50.6\n"
      ],
      "metadata": {
        "colab": {
          "base_uri": "https://localhost:8080/",
          "height": 303
        },
        "id": "licSbplJQMlm",
        "outputId": "f8e35425-9f92-498c-d8e4-47f4473c275b"
      },
      "execution_count": 15,
      "outputs": [
        {
          "output_type": "stream",
          "name": "stdout",
          "text": [
            "[0.70735849]\n",
            "[50.75930777]\n"
          ]
        },
        {
          "output_type": "display_data",
          "data": {
            "image/png": "[encoded data removed]",
            "text/plain": [
              "<Figure size 432x288 with 1 Axes>"
            ]
          },
          "metadata": {
            "needs_background": "light"
          }
        }
      ]
    }
  ]
}