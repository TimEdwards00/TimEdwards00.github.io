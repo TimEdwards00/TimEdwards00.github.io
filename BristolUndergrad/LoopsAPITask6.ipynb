{
  "nbformat": 4,
  "nbformat_minor": 0,
  "metadata": {
    "colab": {
      "name": "LoopsAPITask6.ipynb",
      "provenance": [],
      "authorship_tag": "ABX9TyPYGRkuip4KNEhYSaGvVGgN",
      "include_colab_link": true
    },
    "kernelspec": {
      "name": "python3",
      "display_name": "Python 3"
    },
    "language_info": {
      "name": "python"
    }
  },
  "cells": [
    {
      "cell_type": "markdown",
      "metadata": {
        "id": "view-in-github",
        "colab_type": "text"
      },
      "source": [
        "<a href=\"https://colab.research.google.com/github/TimEdwards00/TimEdwards00.github.io/blob/main/LoopsAPITask6.ipynb\" target=\"_parent\"><img src=\"https://colab.research.google.com/assets/colab-badge.svg\" alt=\"Open In Colab\"/></a>"
      ]
    },
    {
      "cell_type": "code",
      "execution_count": null,
      "metadata": {
        "id": "n3m7Bz6mSDhM"
      },
      "outputs": [],
      "source": [
        "#imports\n",
        "import requests\n",
        "import json\n",
        "import os\n",
        "from google.colab import files  \n",
        "urlBase = \"https://api.stlouisfed.org/fred/series/observations?series_id={}&api_key=bc27db12ab7791673b2aa9720571a89e&file_type=json\"\n",
        "fileBase = \"data_FRED-{}.json\"\n",
        "fredSeries = {'FEDFUNDS','T10Y2Y','T10YIE','MORTGAGE30US','GDP'}\n",
        "\n",
        "for i in fredSeries:\n",
        "  print(i)\n",
        "  \n",
        "  URL = urlBase.format(i)\n",
        "  print(URL)\n",
        "  \n",
        "  data = requests.get(URL).json()\n",
        "  print(data)\n",
        "  \n",
        "  fileName = fileBase.format(i)\n",
        "  print(fileName)\n",
        "\n",
        "  with open(fileName, 'w', encoding='utf-8') as f:\n",
        "    json.dump(data, f , ensure_ascii=False, indent=4)\n",
        "\n",
        "    files.download('{}'.format(fileName))\n",
        "\n"
      ]
    }
  ]
}